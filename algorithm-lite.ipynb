{
 "cells": [
  {
   "cell_type": "code",
   "execution_count": 156,
   "metadata": {},
   "outputs": [
    {
     "name": "stdout",
     "output_type": "stream",
     "text": [
      "list_result ['1+23-4+56+7+8+9', '12+3-4+5+67+8+9', '1+2+34-5+67-8+9', '1+2+3-4+5+6+78+9', '123-4-5-6-7+8-9', '123+45-67+8-9', '1+23-4+5+6+78-9', '12-3-4+5-6+7+89', '12+3+4+5-6-7+89', '123-45-67+89', '123+4-5+67-89']\n"
     ]
    }
   ],
   "source": [
    "#b1\n",
    "import random\n",
    "import numpy\n",
    "def find_list_expression(L,total_ref):\n",
    "    list_result=[]\n",
    "\n",
    "    L_expand=[]\n",
    "    for i in L:\n",
    "        L_expand.append(['%s+'%i,'%s-'%i,'%s'%i])\n",
    "    #print(L_expand)\n",
    "    L_expand=L_expand[:-1]\n",
    "    a = [[0,1,2]]*8\n",
    "    L_a=[list(x) for x in numpy.array(numpy.meshgrid(*a)).T.reshape(-1,len(a))]\n",
    "    #print(L_a)\n",
    "    for e_L_a in L_a:\n",
    "        i0,i1,i2,i3,i4,i5,i6,i7=e_L_a\n",
    "        L_expression=''\n",
    "        L_expression+=L_expand[0][i0]+L_expand[1][i1]+L_expand[2][i2]\n",
    "        L_expression+=L_expand[3][i3]+L_expand[4][i4]+L_expand[5][i5]\n",
    "        L_expression+=L_expand[6][i6]+L_expand[7][i7]+L[-1]\n",
    "        total=eval(L_expression)\n",
    "        if total==total_ref:\n",
    "            list_result.append(L_expression)\n",
    "\n",
    "    return list_result\n",
    "    \n",
    "if __name__=='__main__':\n",
    "    L='123456789'\n",
    "    list_operator=['','+','-']\n",
    "    total_ref=100\n",
    "    list_result=find_list_expression(L,total_ref)\n",
    "    print('list_result',list_result)"
   ]
  },
  {
   "cell_type": "code",
   "execution_count": 141,
   "metadata": {},
   "outputs": [
    {
     "name": "stdout",
     "output_type": "stream",
     "text": [
      "x\n",
      "x:  20 & y:  20\n",
      "so buoc:  10\n"
     ]
    }
   ],
   "source": [
    "#b2\n",
    "def balance(x, y, count):\n",
    "    if x == y:\n",
    "        print(\"x: \", x , \"&\", \"y: \", y)\n",
    "        print(\"so buoc: \", count)\n",
    "        return\n",
    "    else:\n",
    "        if (x*2 == y):\n",
    "            count = count + 1\n",
    "            x = x*2\n",
    "            balance(x, y, count)\n",
    "        elif (x + 1 == y):\n",
    "            print(\"x\")\n",
    "            count = count + 1\n",
    "            x = x + 1\n",
    "            balance(x, y, count)\n",
    "        elif (y - x*2 > 0):\n",
    "            x = x*2\n",
    "            count = count + 1\n",
    "            balance(x, y, count)\n",
    "        elif (y - x*2 < 0):\n",
    "            x = x + 1\n",
    "            count = count + 1\n",
    "            balance(x, y, count)\n",
    "balance(3, 20, 0)"
   ]
  },
  {
   "cell_type": "code",
   "execution_count": 104,
   "metadata": {},
   "outputs": [
    {
     "data": {
      "text/plain": [
       "20"
      ]
     },
     "execution_count": 104,
     "metadata": {},
     "output_type": "execute_result"
    }
   ],
   "source": [
    "2 * 2 * 2* 2 + 1 + 1 + 1 + 1"
   ]
  },
  {
   "cell_type": "code",
   "execution_count": 137,
   "metadata": {},
   "outputs": [
    {
     "data": {
      "text/plain": [
       "20"
      ]
     },
     "execution_count": 137,
     "metadata": {},
     "output_type": "execute_result"
    }
   ],
   "source": [
    "3 * 2 * 2 + 1*8"
   ]
  },
  {
   "cell_type": "code",
   "execution_count": 123,
   "metadata": {},
   "outputs": [
    {
     "data": {
      "text/plain": [
       "20"
      ]
     },
     "execution_count": 123,
     "metadata": {},
     "output_type": "execute_result"
    }
   ],
   "source": [
    "4 * 2 * 2 + 1*4"
   ]
  },
  {
   "cell_type": "code",
   "execution_count": null,
   "metadata": {},
   "outputs": [],
   "source": []
  }
 ],
 "metadata": {
  "kernelspec": {
   "display_name": "Python 3",
   "language": "python",
   "name": "python3"
  },
  "language_info": {
   "codemirror_mode": {
    "name": "ipython",
    "version": 3
   },
   "file_extension": ".py",
   "mimetype": "text/x-python",
   "name": "python",
   "nbconvert_exporter": "python",
   "pygments_lexer": "ipython3",
   "version": "3.7.4"
  }
 },
 "nbformat": 4,
 "nbformat_minor": 2
}
